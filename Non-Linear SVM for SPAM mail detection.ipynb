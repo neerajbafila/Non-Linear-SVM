{
 "cells": [
  {
   "cell_type": "code",
   "execution_count": 1,
   "metadata": {},
   "outputs": [
    {
     "name": "stdout",
     "output_type": "stream",
     "text": [
      "     0     1     2    3     4     5     6     7     8     9   ...    48  \\\n",
      "0  0.00  0.64  0.64  0.0  0.32  0.00  0.00  0.00  0.00  0.00  ...  0.00   \n",
      "1  0.21  0.28  0.50  0.0  0.14  0.28  0.21  0.07  0.00  0.94  ...  0.00   \n",
      "2  0.06  0.00  0.71  0.0  1.23  0.19  0.19  0.12  0.64  0.25  ...  0.01   \n",
      "3  0.00  0.00  0.00  0.0  0.63  0.00  0.31  0.63  0.31  0.63  ...  0.00   \n",
      "4  0.00  0.00  0.00  0.0  0.63  0.00  0.31  0.63  0.31  0.63  ...  0.00   \n",
      "\n",
      "      49   50     51     52     53     54   55    56  57  \n",
      "0  0.000  0.0  0.778  0.000  0.000  3.756   61   278   1  \n",
      "1  0.132  0.0  0.372  0.180  0.048  5.114  101  1028   1  \n",
      "2  0.143  0.0  0.276  0.184  0.010  9.821  485  2259   1  \n",
      "3  0.137  0.0  0.137  0.000  0.000  3.537   40   191   1  \n",
      "4  0.135  0.0  0.135  0.000  0.000  3.537   40   191   1  \n",
      "\n",
      "[5 rows x 58 columns]\n"
     ]
    }
   ],
   "source": [
    "import pandas as pd\n",
    "import numpy as np\n",
    "import matplotlib.pyplot as plt\n",
    "%matplotlib inline\n",
    "\n",
    "email_data = pd.read_csv('Spam.txt', sep=',', header=None)\n",
    "\n",
    "print(email_data.head())\n",
    "\n"
   ]
  },
  {
   "cell_type": "markdown",
   "metadata": {},
   "source": [
    "#As of now, the columns are named as integers. Let's manually name the columns appropriately (column names are available at the UCI website here: https://archive.ics.uci.edu/ml/machine-learning-databases/spambase/spambase.names)"
   ]
  },
  {
   "cell_type": "code",
   "execution_count": 2,
   "metadata": {},
   "outputs": [
    {
     "name": "stdout",
     "output_type": "stream",
     "text": [
      "   word_freq_make  word_freq_address  word_freq_all  word_freq_3d  \\\n",
      "0            0.00               0.64           0.64           0.0   \n",
      "1            0.21               0.28           0.50           0.0   \n",
      "2            0.06               0.00           0.71           0.0   \n",
      "3            0.00               0.00           0.00           0.0   \n",
      "4            0.00               0.00           0.00           0.0   \n",
      "\n",
      "   word_freq_our  word_freq_over  word_freq_remove  word_freq_internet  \\\n",
      "0           0.32            0.00              0.00                0.00   \n",
      "1           0.14            0.28              0.21                0.07   \n",
      "2           1.23            0.19              0.19                0.12   \n",
      "3           0.63            0.00              0.31                0.63   \n",
      "4           0.63            0.00              0.31                0.63   \n",
      "\n",
      "   word_freq_order  word_freq_mail  ...  char_freq_;  char_freq_(  \\\n",
      "0             0.00            0.00  ...         0.00        0.000   \n",
      "1             0.00            0.94  ...         0.00        0.132   \n",
      "2             0.64            0.25  ...         0.01        0.143   \n",
      "3             0.31            0.63  ...         0.00        0.137   \n",
      "4             0.31            0.63  ...         0.00        0.135   \n",
      "\n",
      "   char_freq_[  char_freq_!  char_freq_$  char_freq_hash  \\\n",
      "0          0.0        0.778        0.000           0.000   \n",
      "1          0.0        0.372        0.180           0.048   \n",
      "2          0.0        0.276        0.184           0.010   \n",
      "3          0.0        0.137        0.000           0.000   \n",
      "4          0.0        0.135        0.000           0.000   \n",
      "\n",
      "   capital_run_length_average  capital_run_length_longest  \\\n",
      "0                       3.756                          61   \n",
      "1                       5.114                         101   \n",
      "2                       9.821                         485   \n",
      "3                       3.537                          40   \n",
      "4                       3.537                          40   \n",
      "\n",
      "   capital_run_length_total  spam  \n",
      "0                       278     1  \n",
      "1                      1028     1  \n",
      "2                      2259     1  \n",
      "3                       191     1  \n",
      "4                       191     1  \n",
      "\n",
      "[5 rows x 58 columns]\n"
     ]
    }
   ],
   "source": [
    "# renaming the columns\n",
    "email_data.columns  = [\"word_freq_make\", \"word_freq_address\", \"word_freq_all\", \"word_freq_3d\", \n",
    "                      \"word_freq_our\", \"word_freq_over\", \"word_freq_remove\", \"word_freq_internet\", \n",
    "                      \"word_freq_order\", \"word_freq_mail\", \"word_freq_receive\", \"word_freq_will\", \n",
    "                      \"word_freq_people\", \"word_freq_report\", \"word_freq_addresses\", \"word_freq_free\", \n",
    "                      \"word_freq_business\", \"word_freq_email\", \"word_freq_you\", \"word_freq_credit\", \n",
    "                      \"word_freq_your\", \"word_freq_font\", \"word_freq_000\", \"word_freq_money\", \"word_freq_hp\", \n",
    "                      \"word_freq_hpl\", \"word_freq_george\", \"word_freq_650\", \"word_freq_lab\", \"word_freq_labs\", \n",
    "                      \"word_freq_telnet\", \"word_freq_857\", \"word_freq_data\", \"word_freq_415\", \"word_freq_85\", \n",
    "                      \"word_freq_technology\", \"word_freq_1999\", \"word_freq_parts\", \"word_freq_pm\", \"word_freq_direct\",\n",
    "                      \"word_freq_cs\", \"word_freq_meeting\", \"word_freq_original\", \"word_freq_project\", \"word_freq_re\", \n",
    "                      \"word_freq_edu\", \"word_freq_table\", \"word_freq_conference\", \"char_freq_;\", \"char_freq_(\", \n",
    "                      \"char_freq_[\", \"char_freq_!\", \"char_freq_$\", \"char_freq_hash\", \"capital_run_length_average\", \n",
    "                      \"capital_run_length_longest\", \"capital_run_length_total\", \"spam\"]\n",
    "print(email_data.head())"
   ]
  },
  {
   "cell_type": "code",
   "execution_count": 3,
   "metadata": {},
   "outputs": [
    {
     "data": {
      "text/plain": [
       "word_freq_make                0\n",
       "word_freq_address             0\n",
       "word_freq_all                 0\n",
       "word_freq_3d                  0\n",
       "word_freq_our                 0\n",
       "word_freq_over                0\n",
       "word_freq_remove              0\n",
       "word_freq_internet            0\n",
       "word_freq_order               0\n",
       "word_freq_mail                0\n",
       "word_freq_receive             0\n",
       "word_freq_will                0\n",
       "word_freq_people              0\n",
       "word_freq_report              0\n",
       "word_freq_addresses           0\n",
       "word_freq_free                0\n",
       "word_freq_business            0\n",
       "word_freq_email               0\n",
       "word_freq_you                 0\n",
       "word_freq_credit              0\n",
       "word_freq_your                0\n",
       "word_freq_font                0\n",
       "word_freq_000                 0\n",
       "word_freq_money               0\n",
       "word_freq_hp                  0\n",
       "word_freq_hpl                 0\n",
       "word_freq_george              0\n",
       "word_freq_650                 0\n",
       "word_freq_lab                 0\n",
       "word_freq_labs                0\n",
       "word_freq_telnet              0\n",
       "word_freq_857                 0\n",
       "word_freq_data                0\n",
       "word_freq_415                 0\n",
       "word_freq_85                  0\n",
       "word_freq_technology          0\n",
       "word_freq_1999                0\n",
       "word_freq_parts               0\n",
       "word_freq_pm                  0\n",
       "word_freq_direct              0\n",
       "word_freq_cs                  0\n",
       "word_freq_meeting             0\n",
       "word_freq_original            0\n",
       "word_freq_project             0\n",
       "word_freq_re                  0\n",
       "word_freq_edu                 0\n",
       "word_freq_table               0\n",
       "word_freq_conference          0\n",
       "char_freq_;                   0\n",
       "char_freq_(                   0\n",
       "char_freq_[                   0\n",
       "char_freq_!                   0\n",
       "char_freq_$                   0\n",
       "char_freq_hash                0\n",
       "capital_run_length_average    0\n",
       "capital_run_length_longest    0\n",
       "capital_run_length_total      0\n",
       "spam                          0\n",
       "dtype: int64"
      ]
     },
     "execution_count": 3,
     "metadata": {},
     "output_type": "execute_result"
    }
   ],
   "source": [
    "email_data.isnull().sum()"
   ]
  },
  {
   "cell_type": "code",
   "execution_count": 4,
   "metadata": {},
   "outputs": [
    {
     "data": {
      "text/html": [
       "<div>\n",
       "<style scoped>\n",
       "    .dataframe tbody tr th:only-of-type {\n",
       "        vertical-align: middle;\n",
       "    }\n",
       "\n",
       "    .dataframe tbody tr th {\n",
       "        vertical-align: top;\n",
       "    }\n",
       "\n",
       "    .dataframe thead th {\n",
       "        text-align: right;\n",
       "    }\n",
       "</style>\n",
       "<table border=\"1\" class=\"dataframe\">\n",
       "  <thead>\n",
       "    <tr style=\"text-align: right;\">\n",
       "      <th></th>\n",
       "      <th>word_freq_make</th>\n",
       "      <th>word_freq_address</th>\n",
       "      <th>word_freq_all</th>\n",
       "      <th>word_freq_3d</th>\n",
       "      <th>word_freq_our</th>\n",
       "      <th>word_freq_over</th>\n",
       "      <th>word_freq_remove</th>\n",
       "      <th>word_freq_internet</th>\n",
       "      <th>word_freq_order</th>\n",
       "      <th>word_freq_mail</th>\n",
       "      <th>...</th>\n",
       "      <th>char_freq_;</th>\n",
       "      <th>char_freq_(</th>\n",
       "      <th>char_freq_[</th>\n",
       "      <th>char_freq_!</th>\n",
       "      <th>char_freq_$</th>\n",
       "      <th>char_freq_hash</th>\n",
       "      <th>capital_run_length_average</th>\n",
       "      <th>capital_run_length_longest</th>\n",
       "      <th>capital_run_length_total</th>\n",
       "      <th>spam</th>\n",
       "    </tr>\n",
       "  </thead>\n",
       "  <tbody>\n",
       "    <tr>\n",
       "      <th>count</th>\n",
       "      <td>4601.000000</td>\n",
       "      <td>4601.000000</td>\n",
       "      <td>4601.000000</td>\n",
       "      <td>4601.000000</td>\n",
       "      <td>4601.000000</td>\n",
       "      <td>4601.000000</td>\n",
       "      <td>4601.000000</td>\n",
       "      <td>4601.000000</td>\n",
       "      <td>4601.000000</td>\n",
       "      <td>4601.000000</td>\n",
       "      <td>...</td>\n",
       "      <td>4601.000000</td>\n",
       "      <td>4601.000000</td>\n",
       "      <td>4601.000000</td>\n",
       "      <td>4601.000000</td>\n",
       "      <td>4601.000000</td>\n",
       "      <td>4601.000000</td>\n",
       "      <td>4601.000000</td>\n",
       "      <td>4601.000000</td>\n",
       "      <td>4601.000000</td>\n",
       "      <td>4601.000000</td>\n",
       "    </tr>\n",
       "    <tr>\n",
       "      <th>mean</th>\n",
       "      <td>0.104553</td>\n",
       "      <td>0.213015</td>\n",
       "      <td>0.280656</td>\n",
       "      <td>0.065425</td>\n",
       "      <td>0.312223</td>\n",
       "      <td>0.095901</td>\n",
       "      <td>0.114208</td>\n",
       "      <td>0.105295</td>\n",
       "      <td>0.090067</td>\n",
       "      <td>0.239413</td>\n",
       "      <td>...</td>\n",
       "      <td>0.038575</td>\n",
       "      <td>0.139030</td>\n",
       "      <td>0.016976</td>\n",
       "      <td>0.269071</td>\n",
       "      <td>0.075811</td>\n",
       "      <td>0.044238</td>\n",
       "      <td>5.191515</td>\n",
       "      <td>52.172789</td>\n",
       "      <td>283.289285</td>\n",
       "      <td>0.394045</td>\n",
       "    </tr>\n",
       "    <tr>\n",
       "      <th>std</th>\n",
       "      <td>0.305358</td>\n",
       "      <td>1.290575</td>\n",
       "      <td>0.504143</td>\n",
       "      <td>1.395151</td>\n",
       "      <td>0.672513</td>\n",
       "      <td>0.273824</td>\n",
       "      <td>0.391441</td>\n",
       "      <td>0.401071</td>\n",
       "      <td>0.278616</td>\n",
       "      <td>0.644755</td>\n",
       "      <td>...</td>\n",
       "      <td>0.243471</td>\n",
       "      <td>0.270355</td>\n",
       "      <td>0.109394</td>\n",
       "      <td>0.815672</td>\n",
       "      <td>0.245882</td>\n",
       "      <td>0.429342</td>\n",
       "      <td>31.729449</td>\n",
       "      <td>194.891310</td>\n",
       "      <td>606.347851</td>\n",
       "      <td>0.488698</td>\n",
       "    </tr>\n",
       "    <tr>\n",
       "      <th>min</th>\n",
       "      <td>0.000000</td>\n",
       "      <td>0.000000</td>\n",
       "      <td>0.000000</td>\n",
       "      <td>0.000000</td>\n",
       "      <td>0.000000</td>\n",
       "      <td>0.000000</td>\n",
       "      <td>0.000000</td>\n",
       "      <td>0.000000</td>\n",
       "      <td>0.000000</td>\n",
       "      <td>0.000000</td>\n",
       "      <td>...</td>\n",
       "      <td>0.000000</td>\n",
       "      <td>0.000000</td>\n",
       "      <td>0.000000</td>\n",
       "      <td>0.000000</td>\n",
       "      <td>0.000000</td>\n",
       "      <td>0.000000</td>\n",
       "      <td>1.000000</td>\n",
       "      <td>1.000000</td>\n",
       "      <td>1.000000</td>\n",
       "      <td>0.000000</td>\n",
       "    </tr>\n",
       "    <tr>\n",
       "      <th>25%</th>\n",
       "      <td>0.000000</td>\n",
       "      <td>0.000000</td>\n",
       "      <td>0.000000</td>\n",
       "      <td>0.000000</td>\n",
       "      <td>0.000000</td>\n",
       "      <td>0.000000</td>\n",
       "      <td>0.000000</td>\n",
       "      <td>0.000000</td>\n",
       "      <td>0.000000</td>\n",
       "      <td>0.000000</td>\n",
       "      <td>...</td>\n",
       "      <td>0.000000</td>\n",
       "      <td>0.000000</td>\n",
       "      <td>0.000000</td>\n",
       "      <td>0.000000</td>\n",
       "      <td>0.000000</td>\n",
       "      <td>0.000000</td>\n",
       "      <td>1.588000</td>\n",
       "      <td>6.000000</td>\n",
       "      <td>35.000000</td>\n",
       "      <td>0.000000</td>\n",
       "    </tr>\n",
       "    <tr>\n",
       "      <th>50%</th>\n",
       "      <td>0.000000</td>\n",
       "      <td>0.000000</td>\n",
       "      <td>0.000000</td>\n",
       "      <td>0.000000</td>\n",
       "      <td>0.000000</td>\n",
       "      <td>0.000000</td>\n",
       "      <td>0.000000</td>\n",
       "      <td>0.000000</td>\n",
       "      <td>0.000000</td>\n",
       "      <td>0.000000</td>\n",
       "      <td>...</td>\n",
       "      <td>0.000000</td>\n",
       "      <td>0.065000</td>\n",
       "      <td>0.000000</td>\n",
       "      <td>0.000000</td>\n",
       "      <td>0.000000</td>\n",
       "      <td>0.000000</td>\n",
       "      <td>2.276000</td>\n",
       "      <td>15.000000</td>\n",
       "      <td>95.000000</td>\n",
       "      <td>0.000000</td>\n",
       "    </tr>\n",
       "    <tr>\n",
       "      <th>75%</th>\n",
       "      <td>0.000000</td>\n",
       "      <td>0.000000</td>\n",
       "      <td>0.420000</td>\n",
       "      <td>0.000000</td>\n",
       "      <td>0.380000</td>\n",
       "      <td>0.000000</td>\n",
       "      <td>0.000000</td>\n",
       "      <td>0.000000</td>\n",
       "      <td>0.000000</td>\n",
       "      <td>0.160000</td>\n",
       "      <td>...</td>\n",
       "      <td>0.000000</td>\n",
       "      <td>0.188000</td>\n",
       "      <td>0.000000</td>\n",
       "      <td>0.315000</td>\n",
       "      <td>0.052000</td>\n",
       "      <td>0.000000</td>\n",
       "      <td>3.706000</td>\n",
       "      <td>43.000000</td>\n",
       "      <td>266.000000</td>\n",
       "      <td>1.000000</td>\n",
       "    </tr>\n",
       "    <tr>\n",
       "      <th>max</th>\n",
       "      <td>4.540000</td>\n",
       "      <td>14.280000</td>\n",
       "      <td>5.100000</td>\n",
       "      <td>42.810000</td>\n",
       "      <td>10.000000</td>\n",
       "      <td>5.880000</td>\n",
       "      <td>7.270000</td>\n",
       "      <td>11.110000</td>\n",
       "      <td>5.260000</td>\n",
       "      <td>18.180000</td>\n",
       "      <td>...</td>\n",
       "      <td>4.385000</td>\n",
       "      <td>9.752000</td>\n",
       "      <td>4.081000</td>\n",
       "      <td>32.478000</td>\n",
       "      <td>6.003000</td>\n",
       "      <td>19.829000</td>\n",
       "      <td>1102.500000</td>\n",
       "      <td>9989.000000</td>\n",
       "      <td>15841.000000</td>\n",
       "      <td>1.000000</td>\n",
       "    </tr>\n",
       "  </tbody>\n",
       "</table>\n",
       "<p>8 rows × 58 columns</p>\n",
       "</div>"
      ],
      "text/plain": [
       "       word_freq_make  word_freq_address  word_freq_all  word_freq_3d  \\\n",
       "count     4601.000000        4601.000000    4601.000000   4601.000000   \n",
       "mean         0.104553           0.213015       0.280656      0.065425   \n",
       "std          0.305358           1.290575       0.504143      1.395151   \n",
       "min          0.000000           0.000000       0.000000      0.000000   \n",
       "25%          0.000000           0.000000       0.000000      0.000000   \n",
       "50%          0.000000           0.000000       0.000000      0.000000   \n",
       "75%          0.000000           0.000000       0.420000      0.000000   \n",
       "max          4.540000          14.280000       5.100000     42.810000   \n",
       "\n",
       "       word_freq_our  word_freq_over  word_freq_remove  word_freq_internet  \\\n",
       "count    4601.000000     4601.000000       4601.000000         4601.000000   \n",
       "mean        0.312223        0.095901          0.114208            0.105295   \n",
       "std         0.672513        0.273824          0.391441            0.401071   \n",
       "min         0.000000        0.000000          0.000000            0.000000   \n",
       "25%         0.000000        0.000000          0.000000            0.000000   \n",
       "50%         0.000000        0.000000          0.000000            0.000000   \n",
       "75%         0.380000        0.000000          0.000000            0.000000   \n",
       "max        10.000000        5.880000          7.270000           11.110000   \n",
       "\n",
       "       word_freq_order  word_freq_mail  ...  char_freq_;  char_freq_(  \\\n",
       "count      4601.000000     4601.000000  ...  4601.000000  4601.000000   \n",
       "mean          0.090067        0.239413  ...     0.038575     0.139030   \n",
       "std           0.278616        0.644755  ...     0.243471     0.270355   \n",
       "min           0.000000        0.000000  ...     0.000000     0.000000   \n",
       "25%           0.000000        0.000000  ...     0.000000     0.000000   \n",
       "50%           0.000000        0.000000  ...     0.000000     0.065000   \n",
       "75%           0.000000        0.160000  ...     0.000000     0.188000   \n",
       "max           5.260000       18.180000  ...     4.385000     9.752000   \n",
       "\n",
       "       char_freq_[  char_freq_!  char_freq_$  char_freq_hash  \\\n",
       "count  4601.000000  4601.000000  4601.000000     4601.000000   \n",
       "mean      0.016976     0.269071     0.075811        0.044238   \n",
       "std       0.109394     0.815672     0.245882        0.429342   \n",
       "min       0.000000     0.000000     0.000000        0.000000   \n",
       "25%       0.000000     0.000000     0.000000        0.000000   \n",
       "50%       0.000000     0.000000     0.000000        0.000000   \n",
       "75%       0.000000     0.315000     0.052000        0.000000   \n",
       "max       4.081000    32.478000     6.003000       19.829000   \n",
       "\n",
       "       capital_run_length_average  capital_run_length_longest  \\\n",
       "count                 4601.000000                 4601.000000   \n",
       "mean                     5.191515                   52.172789   \n",
       "std                     31.729449                  194.891310   \n",
       "min                      1.000000                    1.000000   \n",
       "25%                      1.588000                    6.000000   \n",
       "50%                      2.276000                   15.000000   \n",
       "75%                      3.706000                   43.000000   \n",
       "max                   1102.500000                 9989.000000   \n",
       "\n",
       "       capital_run_length_total         spam  \n",
       "count               4601.000000  4601.000000  \n",
       "mean                 283.289285     0.394045  \n",
       "std                  606.347851     0.488698  \n",
       "min                    1.000000     0.000000  \n",
       "25%                   35.000000     0.000000  \n",
       "50%                   95.000000     0.000000  \n",
       "75%                  266.000000     1.000000  \n",
       "max                15841.000000     1.000000  \n",
       "\n",
       "[8 rows x 58 columns]"
      ]
     },
     "execution_count": 4,
     "metadata": {},
     "output_type": "execute_result"
    }
   ],
   "source": [
    "email_data.describe()"
   ]
  },
  {
   "cell_type": "code",
   "execution_count": 5,
   "metadata": {},
   "outputs": [
    {
     "data": {
      "text/plain": [
       "0    2788\n",
       "1    1813\n",
       "Name: spam, dtype: int64"
      ]
     },
     "execution_count": 5,
     "metadata": {},
     "output_type": "execute_result"
    }
   ],
   "source": [
    "email_data['spam'].value_counts()"
   ]
  },
  {
   "cell_type": "code",
   "execution_count": 6,
   "metadata": {},
   "outputs": [],
   "source": [
    "# we can see it is balanced data set"
   ]
  },
  {
   "cell_type": "code",
   "execution_count": 7,
   "metadata": {},
   "outputs": [],
   "source": [
    "# scale the data"
   ]
  },
  {
   "cell_type": "code",
   "execution_count": 8,
   "metadata": {},
   "outputs": [],
   "source": [
    "from sklearn.preprocessing import scale\n",
    "from sklearn.model_selection import train_test_split"
   ]
  },
  {
   "cell_type": "code",
   "execution_count": 9,
   "metadata": {},
   "outputs": [],
   "source": [
    "X = email_data.drop('spam', axis=1)"
   ]
  },
  {
   "cell_type": "code",
   "execution_count": 10,
   "metadata": {},
   "outputs": [],
   "source": [
    "y = email_data['spam'].values.astype(int)"
   ]
  },
  {
   "cell_type": "code",
   "execution_count": 11,
   "metadata": {},
   "outputs": [
    {
     "name": "stderr",
     "output_type": "stream",
     "text": [
      "c:\\users\\neeraj bafila\\appdata\\local\\programs\\python\\python36\\lib\\site-packages\\ipykernel_launcher.py:1: DataConversionWarning: Data with input dtype int64, float64 were all converted to float64 by the scale function.\n",
      "  \"\"\"Entry point for launching an IPython kernel.\n"
     ]
    }
   ],
   "source": [
    "X = scale(X)"
   ]
  },
  {
   "cell_type": "code",
   "execution_count": 12,
   "metadata": {},
   "outputs": [],
   "source": [
    "X_train, X_test, y_train, y_test = train_test_split(X, y, test_size=.30, random_state=4)"
   ]
  },
  {
   "cell_type": "code",
   "execution_count": 13,
   "metadata": {},
   "outputs": [
    {
     "name": "stdout",
     "output_type": "stream",
     "text": [
      "0.3978260869565217\n",
      "0.38522809558291093\n"
     ]
    }
   ],
   "source": [
    "# confirm that splitting also has similar distribution of spam and ham \n",
    "# emails\n",
    "print(y_train.mean())\n",
    "print(y_test.mean())"
   ]
  },
  {
   "cell_type": "markdown",
   "metadata": {},
   "source": [
    "# Model Building"
   ]
  },
  {
   "cell_type": "code",
   "execution_count": 14,
   "metadata": {},
   "outputs": [],
   "source": [
    "from sklearn.svm import SVC"
   ]
  },
  {
   "cell_type": "code",
   "execution_count": 15,
   "metadata": {},
   "outputs": [],
   "source": [
    "svm_1 = SVC(C=1.0, kernel='rbf')"
   ]
  },
  {
   "cell_type": "code",
   "execution_count": 16,
   "metadata": {},
   "outputs": [
    {
     "name": "stderr",
     "output_type": "stream",
     "text": [
      "c:\\users\\neeraj bafila\\appdata\\local\\programs\\python\\python36\\lib\\site-packages\\sklearn\\svm\\base.py:196: FutureWarning: The default value of gamma will change from 'auto' to 'scale' in version 0.22 to account better for unscaled features. Set gamma explicitly to 'auto' or 'scale' to avoid this warning.\n",
      "  \"avoid this warning.\", FutureWarning)\n"
     ]
    },
    {
     "data": {
      "text/plain": [
       "SVC(C=1.0, cache_size=200, class_weight=None, coef0=0.0,\n",
       "  decision_function_shape='ovr', degree=3, gamma='auto_deprecated',\n",
       "  kernel='rbf', max_iter=-1, probability=False, random_state=None,\n",
       "  shrinking=True, tol=0.001, verbose=False)"
      ]
     },
     "execution_count": 16,
     "metadata": {},
     "output_type": "execute_result"
    }
   ],
   "source": [
    "svm_1.fit(X_train, y_train)"
   ]
  },
  {
   "cell_type": "code",
   "execution_count": 17,
   "metadata": {},
   "outputs": [],
   "source": [
    "y_pred = svm_1.predict(X_test)"
   ]
  },
  {
   "cell_type": "code",
   "execution_count": 18,
   "metadata": {},
   "outputs": [],
   "source": [
    "from sklearn.metrics import confusion_matrix, accuracy_score, recall_score, precision_score"
   ]
  },
  {
   "cell_type": "code",
   "execution_count": 19,
   "metadata": {},
   "outputs": [
    {
     "name": "stdout",
     "output_type": "stream",
     "text": [
      "Accuray score of model svm_1 is 0.9283128167994207\n"
     ]
    }
   ],
   "source": [
    "print('Accuray score of model svm_1 is {0}'. format(accuracy_score(y_test, y_pred)))"
   ]
  },
  {
   "cell_type": "code",
   "execution_count": 20,
   "metadata": {},
   "outputs": [
    {
     "name": "stdout",
     "output_type": "stream",
     "text": [
      "[[811  38]\n",
      " [ 61 471]]\n"
     ]
    }
   ],
   "source": [
    "print(confusion_matrix(y_test, y_pred))"
   ]
  },
  {
   "cell_type": "code",
   "execution_count": 21,
   "metadata": {},
   "outputs": [
    {
     "name": "stdout",
     "output_type": "stream",
     "text": [
      "Recall of model svm_1 is 0.8853383458646616\n"
     ]
    }
   ],
   "source": [
    "print('Recall of model svm_1 is {0}'.format(recall_score(y_test, y_pred)))"
   ]
  },
  {
   "cell_type": "code",
   "execution_count": 22,
   "metadata": {},
   "outputs": [
    {
     "name": "stdout",
     "output_type": "stream",
     "text": [
      "Precision of model svm_1 is 0.925343811394892\n"
     ]
    }
   ],
   "source": [
    "print('Precision of model svm_1 is {0}'.format(precision_score(y_test, y_pred)))"
   ]
  },
  {
   "cell_type": "markdown",
   "metadata": {},
   "source": [
    "# Hyperparameter Tuning \n",
    "\n",
    "Now, we have multiple hyperparameters to optimise - \n",
    "- The choice of kernel (linear, rbf etc.)\n",
    "- C\n",
    "- gamma\n",
    "\n",
    "We'll use the ```GridSearchCV()``` method to tune the hyperparameters. "
   ]
  },
  {
   "cell_type": "code",
   "execution_count": 23,
   "metadata": {},
   "outputs": [],
   "source": [
    "from sklearn.model_selection import KFold, cross_val_score"
   ]
  },
  {
   "cell_type": "code",
   "execution_count": 24,
   "metadata": {},
   "outputs": [],
   "source": [
    "fold = KFold(n_splits=5, shuffle=True, random_state=4)"
   ]
  },
  {
   "cell_type": "code",
   "execution_count": 25,
   "metadata": {
    "scrolled": true
   },
   "outputs": [],
   "source": [
    "# cr_score = cross_val_score(svm_1,X_train, y_train, cv=fold, n_jobs=-1, verbose=1)\n",
    "# cr_score"
   ]
  },
  {
   "cell_type": "code",
   "execution_count": 26,
   "metadata": {},
   "outputs": [],
   "source": [
    "from sklearn.model_selection import GridSearchCV"
   ]
  },
  {
   "cell_type": "code",
   "execution_count": 27,
   "metadata": {},
   "outputs": [],
   "source": [
    "# hyper_param = {'C':[1,5,10,100,1000], 'kernel':['linear','rbf'], 'gamma':[0.01, 0.001, 0.0001]}"
   ]
  },
  {
   "cell_type": "code",
   "execution_count": 29,
   "metadata": {},
   "outputs": [],
   "source": [
    "svm = SVC(kernel='rbf')"
   ]
  },
  {
   "cell_type": "code",
   "execution_count": 30,
   "metadata": {},
   "outputs": [],
   "source": [
    "hyper_param = {'C':[1,5,10,100,1000], 'gamma':[0.01, 0.001, 0.0001]}"
   ]
  },
  {
   "cell_type": "code",
   "execution_count": 31,
   "metadata": {},
   "outputs": [],
   "source": [
    "grs = GridSearchCV(svm, param_grid=hyper_param, cv=fold, return_train_score=True, n_jobs=-1, scoring='accuracy', verbose=10)"
   ]
  },
  {
   "cell_type": "code",
   "execution_count": 32,
   "metadata": {},
   "outputs": [
    {
     "name": "stdout",
     "output_type": "stream",
     "text": [
      "Fitting 5 folds for each of 15 candidates, totalling 75 fits\n"
     ]
    },
    {
     "name": "stderr",
     "output_type": "stream",
     "text": [
      "[Parallel(n_jobs=-1)]: Using backend LokyBackend with 4 concurrent workers.\n",
      "[Parallel(n_jobs=-1)]: Done   5 tasks      | elapsed:    3.6s\n",
      "[Parallel(n_jobs=-1)]: Done  10 tasks      | elapsed:    5.0s\n",
      "[Parallel(n_jobs=-1)]: Done  17 tasks      | elapsed:    7.6s\n",
      "[Parallel(n_jobs=-1)]: Done  24 tasks      | elapsed:    9.0s\n",
      "[Parallel(n_jobs=-1)]: Done  33 tasks      | elapsed:   11.1s\n",
      "[Parallel(n_jobs=-1)]: Done  42 tasks      | elapsed:   13.1s\n",
      "[Parallel(n_jobs=-1)]: Done  53 tasks      | elapsed:   15.1s\n",
      "[Parallel(n_jobs=-1)]: Done  64 tasks      | elapsed:   17.4s\n",
      "[Parallel(n_jobs=-1)]: Done  75 out of  75 | elapsed:   19.4s finished\n"
     ]
    },
    {
     "data": {
      "text/plain": [
       "GridSearchCV(cv=KFold(n_splits=5, random_state=4, shuffle=True),\n",
       "       error_score='raise-deprecating',\n",
       "       estimator=SVC(C=1.0, cache_size=200, class_weight=None, coef0=0.0,\n",
       "  decision_function_shape='ovr', degree=3, gamma='auto_deprecated',\n",
       "  kernel='rbf', max_iter=-1, probability=False, random_state=None,\n",
       "  shrinking=True, tol=0.001, verbose=False),\n",
       "       fit_params=None, iid='warn', n_jobs=-1,\n",
       "       param_grid={'C': [1, 5, 10, 100, 1000], 'gamma': [0.01, 0.001, 0.0001]},\n",
       "       pre_dispatch='2*n_jobs', refit=True, return_train_score=True,\n",
       "       scoring='accuracy', verbose=10)"
      ]
     },
     "execution_count": 32,
     "metadata": {},
     "output_type": "execute_result"
    }
   ],
   "source": [
    "grs.fit(X_train, y_train)"
   ]
  },
  {
   "cell_type": "code",
   "execution_count": 33,
   "metadata": {},
   "outputs": [],
   "source": [
    "#svm.get_params().keys()"
   ]
  },
  {
   "cell_type": "code",
   "execution_count": 36,
   "metadata": {},
   "outputs": [],
   "source": [
    "grs_result =pd.DataFrame(grs.cv_results_)"
   ]
  },
  {
   "cell_type": "code",
   "execution_count": 37,
   "metadata": {},
   "outputs": [
    {
     "data": {
      "text/html": [
       "<div>\n",
       "<style scoped>\n",
       "    .dataframe tbody tr th:only-of-type {\n",
       "        vertical-align: middle;\n",
       "    }\n",
       "\n",
       "    .dataframe tbody tr th {\n",
       "        vertical-align: top;\n",
       "    }\n",
       "\n",
       "    .dataframe thead th {\n",
       "        text-align: right;\n",
       "    }\n",
       "</style>\n",
       "<table border=\"1\" class=\"dataframe\">\n",
       "  <thead>\n",
       "    <tr style=\"text-align: right;\">\n",
       "      <th></th>\n",
       "      <th>mean_fit_time</th>\n",
       "      <th>std_fit_time</th>\n",
       "      <th>mean_score_time</th>\n",
       "      <th>std_score_time</th>\n",
       "      <th>param_C</th>\n",
       "      <th>param_gamma</th>\n",
       "      <th>params</th>\n",
       "      <th>split0_test_score</th>\n",
       "      <th>split1_test_score</th>\n",
       "      <th>split2_test_score</th>\n",
       "      <th>...</th>\n",
       "      <th>mean_test_score</th>\n",
       "      <th>std_test_score</th>\n",
       "      <th>rank_test_score</th>\n",
       "      <th>split0_train_score</th>\n",
       "      <th>split1_train_score</th>\n",
       "      <th>split2_train_score</th>\n",
       "      <th>split3_train_score</th>\n",
       "      <th>split4_train_score</th>\n",
       "      <th>mean_train_score</th>\n",
       "      <th>std_train_score</th>\n",
       "    </tr>\n",
       "  </thead>\n",
       "  <tbody>\n",
       "    <tr>\n",
       "      <th>0</th>\n",
       "      <td>0.443594</td>\n",
       "      <td>0.028756</td>\n",
       "      <td>0.065627</td>\n",
       "      <td>0.006250</td>\n",
       "      <td>1</td>\n",
       "      <td>0.01</td>\n",
       "      <td>{'C': 1, 'gamma': 0.01}</td>\n",
       "      <td>0.917702</td>\n",
       "      <td>0.939441</td>\n",
       "      <td>0.922360</td>\n",
       "      <td>...</td>\n",
       "      <td>0.929814</td>\n",
       "      <td>0.008528</td>\n",
       "      <td>6</td>\n",
       "      <td>0.943323</td>\n",
       "      <td>0.940994</td>\n",
       "      <td>0.945264</td>\n",
       "      <td>0.937112</td>\n",
       "      <td>0.939829</td>\n",
       "      <td>0.941304</td>\n",
       "      <td>0.002814</td>\n",
       "    </tr>\n",
       "    <tr>\n",
       "      <th>1</th>\n",
       "      <td>0.571550</td>\n",
       "      <td>0.015621</td>\n",
       "      <td>0.106251</td>\n",
       "      <td>0.006249</td>\n",
       "      <td>1</td>\n",
       "      <td>0.001</td>\n",
       "      <td>{'C': 1, 'gamma': 0.001}</td>\n",
       "      <td>0.886646</td>\n",
       "      <td>0.919255</td>\n",
       "      <td>0.899068</td>\n",
       "      <td>...</td>\n",
       "      <td>0.904037</td>\n",
       "      <td>0.013080</td>\n",
       "      <td>12</td>\n",
       "      <td>0.910326</td>\n",
       "      <td>0.903339</td>\n",
       "      <td>0.908773</td>\n",
       "      <td>0.906056</td>\n",
       "      <td>0.904115</td>\n",
       "      <td>0.906522</td>\n",
       "      <td>0.002672</td>\n",
       "    </tr>\n",
       "    <tr>\n",
       "      <th>2</th>\n",
       "      <td>0.958827</td>\n",
       "      <td>0.019315</td>\n",
       "      <td>0.181339</td>\n",
       "      <td>0.012437</td>\n",
       "      <td>1</td>\n",
       "      <td>0.0001</td>\n",
       "      <td>{'C': 1, 'gamma': 0.0001}</td>\n",
       "      <td>0.770186</td>\n",
       "      <td>0.802795</td>\n",
       "      <td>0.791925</td>\n",
       "      <td>...</td>\n",
       "      <td>0.786025</td>\n",
       "      <td>0.015322</td>\n",
       "      <td>15</td>\n",
       "      <td>0.789208</td>\n",
       "      <td>0.779503</td>\n",
       "      <td>0.785326</td>\n",
       "      <td>0.791925</td>\n",
       "      <td>0.788820</td>\n",
       "      <td>0.786957</td>\n",
       "      <td>0.004277</td>\n",
       "    </tr>\n",
       "    <tr>\n",
       "      <th>3</th>\n",
       "      <td>0.407129</td>\n",
       "      <td>0.043564</td>\n",
       "      <td>0.056371</td>\n",
       "      <td>0.007755</td>\n",
       "      <td>5</td>\n",
       "      <td>0.01</td>\n",
       "      <td>{'C': 5, 'gamma': 0.01}</td>\n",
       "      <td>0.913043</td>\n",
       "      <td>0.945652</td>\n",
       "      <td>0.927019</td>\n",
       "      <td>...</td>\n",
       "      <td>0.933230</td>\n",
       "      <td>0.012068</td>\n",
       "      <td>3</td>\n",
       "      <td>0.960016</td>\n",
       "      <td>0.956134</td>\n",
       "      <td>0.958463</td>\n",
       "      <td>0.958463</td>\n",
       "      <td>0.952252</td>\n",
       "      <td>0.957065</td>\n",
       "      <td>0.002707</td>\n",
       "    </tr>\n",
       "    <tr>\n",
       "      <th>4</th>\n",
       "      <td>0.446738</td>\n",
       "      <td>0.043287</td>\n",
       "      <td>0.075001</td>\n",
       "      <td>0.006249</td>\n",
       "      <td>5</td>\n",
       "      <td>0.001</td>\n",
       "      <td>{'C': 5, 'gamma': 0.001}</td>\n",
       "      <td>0.913043</td>\n",
       "      <td>0.933230</td>\n",
       "      <td>0.919255</td>\n",
       "      <td>...</td>\n",
       "      <td>0.925155</td>\n",
       "      <td>0.007758</td>\n",
       "      <td>10</td>\n",
       "      <td>0.932065</td>\n",
       "      <td>0.927795</td>\n",
       "      <td>0.928571</td>\n",
       "      <td>0.927019</td>\n",
       "      <td>0.928571</td>\n",
       "      <td>0.928804</td>\n",
       "      <td>0.001729</td>\n",
       "    </tr>\n",
       "    <tr>\n",
       "      <th>5</th>\n",
       "      <td>0.653780</td>\n",
       "      <td>0.019402</td>\n",
       "      <td>0.119843</td>\n",
       "      <td>0.006550</td>\n",
       "      <td>5</td>\n",
       "      <td>0.0001</td>\n",
       "      <td>{'C': 5, 'gamma': 0.0001}</td>\n",
       "      <td>0.861801</td>\n",
       "      <td>0.897516</td>\n",
       "      <td>0.875776</td>\n",
       "      <td>...</td>\n",
       "      <td>0.880124</td>\n",
       "      <td>0.015509</td>\n",
       "      <td>14</td>\n",
       "      <td>0.888975</td>\n",
       "      <td>0.883929</td>\n",
       "      <td>0.880435</td>\n",
       "      <td>0.886646</td>\n",
       "      <td>0.885093</td>\n",
       "      <td>0.885016</td>\n",
       "      <td>0.002846</td>\n",
       "    </tr>\n",
       "    <tr>\n",
       "      <th>6</th>\n",
       "      <td>0.350003</td>\n",
       "      <td>0.021197</td>\n",
       "      <td>0.056250</td>\n",
       "      <td>0.007654</td>\n",
       "      <td>10</td>\n",
       "      <td>0.01</td>\n",
       "      <td>{'C': 10, 'gamma': 0.01}</td>\n",
       "      <td>0.909938</td>\n",
       "      <td>0.944099</td>\n",
       "      <td>0.934783</td>\n",
       "      <td>...</td>\n",
       "      <td>0.933230</td>\n",
       "      <td>0.012266</td>\n",
       "      <td>3</td>\n",
       "      <td>0.966227</td>\n",
       "      <td>0.966615</td>\n",
       "      <td>0.967003</td>\n",
       "      <td>0.961568</td>\n",
       "      <td>0.962345</td>\n",
       "      <td>0.964752</td>\n",
       "      <td>0.002308</td>\n",
       "    </tr>\n",
       "    <tr>\n",
       "      <th>7</th>\n",
       "      <td>0.422969</td>\n",
       "      <td>0.010479</td>\n",
       "      <td>0.071876</td>\n",
       "      <td>0.007656</td>\n",
       "      <td>10</td>\n",
       "      <td>0.001</td>\n",
       "      <td>{'C': 10, 'gamma': 0.001}</td>\n",
       "      <td>0.917702</td>\n",
       "      <td>0.934783</td>\n",
       "      <td>0.916149</td>\n",
       "      <td>...</td>\n",
       "      <td>0.928261</td>\n",
       "      <td>0.009491</td>\n",
       "      <td>8</td>\n",
       "      <td>0.937112</td>\n",
       "      <td>0.932453</td>\n",
       "      <td>0.936335</td>\n",
       "      <td>0.935171</td>\n",
       "      <td>0.931289</td>\n",
       "      <td>0.934472</td>\n",
       "      <td>0.002242</td>\n",
       "    </tr>\n",
       "    <tr>\n",
       "      <th>8</th>\n",
       "      <td>0.576505</td>\n",
       "      <td>0.017309</td>\n",
       "      <td>0.104627</td>\n",
       "      <td>0.006283</td>\n",
       "      <td>10</td>\n",
       "      <td>0.0001</td>\n",
       "      <td>{'C': 10, 'gamma': 0.0001}</td>\n",
       "      <td>0.883540</td>\n",
       "      <td>0.914596</td>\n",
       "      <td>0.899068</td>\n",
       "      <td>...</td>\n",
       "      <td>0.902174</td>\n",
       "      <td>0.013749</td>\n",
       "      <td>13</td>\n",
       "      <td>0.909938</td>\n",
       "      <td>0.902174</td>\n",
       "      <td>0.908773</td>\n",
       "      <td>0.905280</td>\n",
       "      <td>0.902562</td>\n",
       "      <td>0.905745</td>\n",
       "      <td>0.003158</td>\n",
       "    </tr>\n",
       "    <tr>\n",
       "      <th>9</th>\n",
       "      <td>0.432756</td>\n",
       "      <td>0.032721</td>\n",
       "      <td>0.046876</td>\n",
       "      <td>0.000002</td>\n",
       "      <td>100</td>\n",
       "      <td>0.01</td>\n",
       "      <td>{'C': 100, 'gamma': 0.01}</td>\n",
       "      <td>0.913043</td>\n",
       "      <td>0.937888</td>\n",
       "      <td>0.934783</td>\n",
       "      <td>...</td>\n",
       "      <td>0.931677</td>\n",
       "      <td>0.010159</td>\n",
       "      <td>5</td>\n",
       "      <td>0.982531</td>\n",
       "      <td>0.979814</td>\n",
       "      <td>0.982531</td>\n",
       "      <td>0.982143</td>\n",
       "      <td>0.982531</td>\n",
       "      <td>0.981910</td>\n",
       "      <td>0.001059</td>\n",
       "    </tr>\n",
       "    <tr>\n",
       "      <th>10</th>\n",
       "      <td>0.376661</td>\n",
       "      <td>0.022474</td>\n",
       "      <td>0.044786</td>\n",
       "      <td>0.004180</td>\n",
       "      <td>100</td>\n",
       "      <td>0.001</td>\n",
       "      <td>{'C': 100, 'gamma': 0.001}</td>\n",
       "      <td>0.923913</td>\n",
       "      <td>0.940994</td>\n",
       "      <td>0.925466</td>\n",
       "      <td>...</td>\n",
       "      <td>0.933851</td>\n",
       "      <td>0.008482</td>\n",
       "      <td>1</td>\n",
       "      <td>0.950311</td>\n",
       "      <td>0.949534</td>\n",
       "      <td>0.948758</td>\n",
       "      <td>0.945652</td>\n",
       "      <td>0.939829</td>\n",
       "      <td>0.946817</td>\n",
       "      <td>0.003835</td>\n",
       "    </tr>\n",
       "    <tr>\n",
       "      <th>11</th>\n",
       "      <td>0.408518</td>\n",
       "      <td>0.014627</td>\n",
       "      <td>0.065626</td>\n",
       "      <td>0.006250</td>\n",
       "      <td>100</td>\n",
       "      <td>0.0001</td>\n",
       "      <td>{'C': 100, 'gamma': 0.0001}</td>\n",
       "      <td>0.919255</td>\n",
       "      <td>0.934783</td>\n",
       "      <td>0.917702</td>\n",
       "      <td>...</td>\n",
       "      <td>0.927019</td>\n",
       "      <td>0.007349</td>\n",
       "      <td>9</td>\n",
       "      <td>0.934006</td>\n",
       "      <td>0.931289</td>\n",
       "      <td>0.934006</td>\n",
       "      <td>0.930901</td>\n",
       "      <td>0.929348</td>\n",
       "      <td>0.931910</td>\n",
       "      <td>0.001831</td>\n",
       "    </tr>\n",
       "    <tr>\n",
       "      <th>12</th>\n",
       "      <td>0.656258</td>\n",
       "      <td>0.061714</td>\n",
       "      <td>0.050000</td>\n",
       "      <td>0.022964</td>\n",
       "      <td>1000</td>\n",
       "      <td>0.01</td>\n",
       "      <td>{'C': 1000, 'gamma': 0.01}</td>\n",
       "      <td>0.908385</td>\n",
       "      <td>0.922360</td>\n",
       "      <td>0.920807</td>\n",
       "      <td>...</td>\n",
       "      <td>0.918323</td>\n",
       "      <td>0.005607</td>\n",
       "      <td>11</td>\n",
       "      <td>0.993789</td>\n",
       "      <td>0.992624</td>\n",
       "      <td>0.992624</td>\n",
       "      <td>0.993012</td>\n",
       "      <td>0.992236</td>\n",
       "      <td>0.992857</td>\n",
       "      <td>0.000527</td>\n",
       "    </tr>\n",
       "    <tr>\n",
       "      <th>13</th>\n",
       "      <td>0.649309</td>\n",
       "      <td>0.041795</td>\n",
       "      <td>0.037501</td>\n",
       "      <td>0.007655</td>\n",
       "      <td>1000</td>\n",
       "      <td>0.001</td>\n",
       "      <td>{'C': 1000, 'gamma': 0.001}</td>\n",
       "      <td>0.919255</td>\n",
       "      <td>0.944099</td>\n",
       "      <td>0.930124</td>\n",
       "      <td>...</td>\n",
       "      <td>0.933851</td>\n",
       "      <td>0.009033</td>\n",
       "      <td>1</td>\n",
       "      <td>0.966615</td>\n",
       "      <td>0.966227</td>\n",
       "      <td>0.966615</td>\n",
       "      <td>0.963121</td>\n",
       "      <td>0.966227</td>\n",
       "      <td>0.965761</td>\n",
       "      <td>0.001331</td>\n",
       "    </tr>\n",
       "    <tr>\n",
       "      <th>14</th>\n",
       "      <td>0.381257</td>\n",
       "      <td>0.012501</td>\n",
       "      <td>0.050003</td>\n",
       "      <td>0.006251</td>\n",
       "      <td>1000</td>\n",
       "      <td>0.0001</td>\n",
       "      <td>{'C': 1000, 'gamma': 0.0001}</td>\n",
       "      <td>0.920807</td>\n",
       "      <td>0.936335</td>\n",
       "      <td>0.925466</td>\n",
       "      <td>...</td>\n",
       "      <td>0.929193</td>\n",
       "      <td>0.005777</td>\n",
       "      <td>7</td>\n",
       "      <td>0.940606</td>\n",
       "      <td>0.940994</td>\n",
       "      <td>0.940994</td>\n",
       "      <td>0.937112</td>\n",
       "      <td>0.937500</td>\n",
       "      <td>0.939441</td>\n",
       "      <td>0.001753</td>\n",
       "    </tr>\n",
       "  </tbody>\n",
       "</table>\n",
       "<p>15 rows × 22 columns</p>\n",
       "</div>"
      ],
      "text/plain": [
       "    mean_fit_time  std_fit_time  mean_score_time  std_score_time param_C  \\\n",
       "0        0.443594      0.028756         0.065627        0.006250       1   \n",
       "1        0.571550      0.015621         0.106251        0.006249       1   \n",
       "2        0.958827      0.019315         0.181339        0.012437       1   \n",
       "3        0.407129      0.043564         0.056371        0.007755       5   \n",
       "4        0.446738      0.043287         0.075001        0.006249       5   \n",
       "5        0.653780      0.019402         0.119843        0.006550       5   \n",
       "6        0.350003      0.021197         0.056250        0.007654      10   \n",
       "7        0.422969      0.010479         0.071876        0.007656      10   \n",
       "8        0.576505      0.017309         0.104627        0.006283      10   \n",
       "9        0.432756      0.032721         0.046876        0.000002     100   \n",
       "10       0.376661      0.022474         0.044786        0.004180     100   \n",
       "11       0.408518      0.014627         0.065626        0.006250     100   \n",
       "12       0.656258      0.061714         0.050000        0.022964    1000   \n",
       "13       0.649309      0.041795         0.037501        0.007655    1000   \n",
       "14       0.381257      0.012501         0.050003        0.006251    1000   \n",
       "\n",
       "   param_gamma                        params  split0_test_score  \\\n",
       "0         0.01       {'C': 1, 'gamma': 0.01}           0.917702   \n",
       "1        0.001      {'C': 1, 'gamma': 0.001}           0.886646   \n",
       "2       0.0001     {'C': 1, 'gamma': 0.0001}           0.770186   \n",
       "3         0.01       {'C': 5, 'gamma': 0.01}           0.913043   \n",
       "4        0.001      {'C': 5, 'gamma': 0.001}           0.913043   \n",
       "5       0.0001     {'C': 5, 'gamma': 0.0001}           0.861801   \n",
       "6         0.01      {'C': 10, 'gamma': 0.01}           0.909938   \n",
       "7        0.001     {'C': 10, 'gamma': 0.001}           0.917702   \n",
       "8       0.0001    {'C': 10, 'gamma': 0.0001}           0.883540   \n",
       "9         0.01     {'C': 100, 'gamma': 0.01}           0.913043   \n",
       "10       0.001    {'C': 100, 'gamma': 0.001}           0.923913   \n",
       "11      0.0001   {'C': 100, 'gamma': 0.0001}           0.919255   \n",
       "12        0.01    {'C': 1000, 'gamma': 0.01}           0.908385   \n",
       "13       0.001   {'C': 1000, 'gamma': 0.001}           0.919255   \n",
       "14      0.0001  {'C': 1000, 'gamma': 0.0001}           0.920807   \n",
       "\n",
       "    split1_test_score  split2_test_score  ...  mean_test_score  \\\n",
       "0            0.939441           0.922360  ...         0.929814   \n",
       "1            0.919255           0.899068  ...         0.904037   \n",
       "2            0.802795           0.791925  ...         0.786025   \n",
       "3            0.945652           0.927019  ...         0.933230   \n",
       "4            0.933230           0.919255  ...         0.925155   \n",
       "5            0.897516           0.875776  ...         0.880124   \n",
       "6            0.944099           0.934783  ...         0.933230   \n",
       "7            0.934783           0.916149  ...         0.928261   \n",
       "8            0.914596           0.899068  ...         0.902174   \n",
       "9            0.937888           0.934783  ...         0.931677   \n",
       "10           0.940994           0.925466  ...         0.933851   \n",
       "11           0.934783           0.917702  ...         0.927019   \n",
       "12           0.922360           0.920807  ...         0.918323   \n",
       "13           0.944099           0.930124  ...         0.933851   \n",
       "14           0.936335           0.925466  ...         0.929193   \n",
       "\n",
       "    std_test_score  rank_test_score  split0_train_score  split1_train_score  \\\n",
       "0         0.008528                6            0.943323            0.940994   \n",
       "1         0.013080               12            0.910326            0.903339   \n",
       "2         0.015322               15            0.789208            0.779503   \n",
       "3         0.012068                3            0.960016            0.956134   \n",
       "4         0.007758               10            0.932065            0.927795   \n",
       "5         0.015509               14            0.888975            0.883929   \n",
       "6         0.012266                3            0.966227            0.966615   \n",
       "7         0.009491                8            0.937112            0.932453   \n",
       "8         0.013749               13            0.909938            0.902174   \n",
       "9         0.010159                5            0.982531            0.979814   \n",
       "10        0.008482                1            0.950311            0.949534   \n",
       "11        0.007349                9            0.934006            0.931289   \n",
       "12        0.005607               11            0.993789            0.992624   \n",
       "13        0.009033                1            0.966615            0.966227   \n",
       "14        0.005777                7            0.940606            0.940994   \n",
       "\n",
       "    split2_train_score  split3_train_score  split4_train_score  \\\n",
       "0             0.945264            0.937112            0.939829   \n",
       "1             0.908773            0.906056            0.904115   \n",
       "2             0.785326            0.791925            0.788820   \n",
       "3             0.958463            0.958463            0.952252   \n",
       "4             0.928571            0.927019            0.928571   \n",
       "5             0.880435            0.886646            0.885093   \n",
       "6             0.967003            0.961568            0.962345   \n",
       "7             0.936335            0.935171            0.931289   \n",
       "8             0.908773            0.905280            0.902562   \n",
       "9             0.982531            0.982143            0.982531   \n",
       "10            0.948758            0.945652            0.939829   \n",
       "11            0.934006            0.930901            0.929348   \n",
       "12            0.992624            0.993012            0.992236   \n",
       "13            0.966615            0.963121            0.966227   \n",
       "14            0.940994            0.937112            0.937500   \n",
       "\n",
       "    mean_train_score  std_train_score  \n",
       "0           0.941304         0.002814  \n",
       "1           0.906522         0.002672  \n",
       "2           0.786957         0.004277  \n",
       "3           0.957065         0.002707  \n",
       "4           0.928804         0.001729  \n",
       "5           0.885016         0.002846  \n",
       "6           0.964752         0.002308  \n",
       "7           0.934472         0.002242  \n",
       "8           0.905745         0.003158  \n",
       "9           0.981910         0.001059  \n",
       "10          0.946817         0.003835  \n",
       "11          0.931910         0.001831  \n",
       "12          0.992857         0.000527  \n",
       "13          0.965761         0.001331  \n",
       "14          0.939441         0.001753  \n",
       "\n",
       "[15 rows x 22 columns]"
      ]
     },
     "execution_count": 37,
     "metadata": {},
     "output_type": "execute_result"
    }
   ],
   "source": [
    "grs_result"
   ]
  },
  {
   "cell_type": "code",
   "execution_count": 82,
   "metadata": {},
   "outputs": [
    {
     "data": {
      "image/png": "[encoded data removed]",
      "text/plain": [
       "<Figure size 1152x432 with 3 Axes>"
      ]
     },
     "metadata": {
      "needs_background": "light"
     },
     "output_type": "display_data"
    }
   ],
   "source": [
    "plt.figure(figsize=(16,6))\n",
    "# converting C to numeric type for plotting on x-axis\n",
    "grs_result['param_C'] = grs_result['param_C'].astype('int')\n",
    "\n",
    "plt.subplot(131)\n",
    "gamma_01 = grs_result[grs_result['param_gamma']==0.01]\n",
    "plt.plot((gamma_01['param_C']), gamma_01['mean_test_score'])\n",
    "plt.plot(gamma_01['param_C'], gamma_01['mean_train_score'])\n",
    "plt.xlabel('C value')\n",
    "plt.ylabel('Accuracy')\n",
    "plt.legend(['test score', 'train score'], loc='best')\n",
    "plt.title('Gamma=0.01')\n",
    "plt.xscale('log')\n",
    "\n",
    "plt.subplot(132)\n",
    "gamma_02 = grs_result[grs_result['param_gamma']==0.001]\n",
    "plt.plot((gamma_02['param_C']), gamma_02['mean_test_score'])\n",
    "plt.plot(gamma_02['param_C'], gamma_02['mean_train_score'])\n",
    "plt.xlabel('C value')\n",
    "plt.ylabel('Accuracy')\n",
    "plt.legend(['test score', 'train score'], loc='best')\n",
    "plt.title('Gamma=0.001')\n",
    "plt.xscale('log')\n",
    "\n",
    "plt.subplot(133)\n",
    "gamma_03 = grs_result[grs_result['param_gamma']==0.0001]\n",
    "plt.plot((gamma_03['param_C']), gamma_03['mean_test_score'])\n",
    "plt.plot(gamma_03['param_C'], gamma_02['mean_train_score'])\n",
    "plt.xlabel('C value')\n",
    "plt.ylabel('Accuracy')\n",
    "plt.legend(['test score', 'train score'], loc='best')\n",
    "plt.title('Gamma=0.0001')\n",
    "plt.xscale('log')\n"
   ]
  },
  {
   "cell_type": "code",
   "execution_count": 83,
   "metadata": {},
   "outputs": [
    {
     "data": {
      "text/plain": [
       "{'C': 100, 'gamma': 0.001}"
      ]
     },
     "execution_count": 83,
     "metadata": {},
     "output_type": "execute_result"
    }
   ],
   "source": [
    "grs.best_params_"
   ]
  },
  {
   "cell_type": "markdown",
   "metadata": {},
   "source": [
    "This plot reveals some interesting insights:\n",
    "- **High values of gamma** lead to **overfitting** (especially at high values of C); note that the training accuracy at gamma=0.01 and C=1000 reaches almost 99% \n",
    "- The **training score increases with higher gamma**, though the **test scores are comparable** (at sufficiently high cost, i.e. C > 10)\n",
    "- The least amount of overfitting (i.e. difference between train and test accuracy) occurs at low gamma, i.e. a quite *simple non-linear model*\n"
   ]
  },
  {
   "cell_type": "code",
   "execution_count": 85,
   "metadata": {},
   "outputs": [
    {
     "name": "stdout",
     "output_type": "stream",
     "text": [
      "The best test score is 0.9338509316770186 corresponding to hyperparameters {'C': 100, 'gamma': 0.001}\n"
     ]
    }
   ],
   "source": [
    "# printing the optimal accuracy score and hyperparameters\n",
    "best_score = grs.best_score_\n",
    "best_hyperparams = grs.best_params_\n",
    "\n",
    "print(\"The best test score is {0} corresponding to hyperparameters {1}\".format(best_score, best_hyperparams))"
   ]
  },
  {
   "cell_type": "markdown",
   "metadata": {},
   "source": [
    " Though sklearn suggests the optimal scores mentioned above (gamma=0.001, C=100), one could argue that it is better to choose a simpler, more non-linear model with gamma=0.0001. This is because the optimal values mentioned here are calculated based on the average test accuracy (but not considering subjective parameters such as model complexity).\n",
    "\n",
    "We can achieve comparable average test accuracy (~92.5%) with gamma=0.0001 as well, though we'll have to increase the cost C for that. So to achieve high accuracy, there's a tradeoff between:\n",
    "- High gamma (i.e. high non-linearity) and average value of C\n",
    "- Low gamma (i.e. less non-linearity) and high value of C\n",
    "\n",
    "We argue that the model will be simpler if it has as less non-linearity as possible, so we choose gamma=0.0001 and a high C=100."
   ]
  },
  {
   "cell_type": "markdown",
   "metadata": {},
   "source": [
    "# Building and Evaluating the Final Model\n",
    "\n",
    "Let's now build and evaluate the final model, i.e. the model with highest test accuracy."
   ]
  },
  {
   "cell_type": "code",
   "execution_count": 89,
   "metadata": {},
   "outputs": [
    {
     "name": "stdout",
     "output_type": "stream",
     "text": [
      "[[810  39]\n",
      " [ 60 472]] \n",
      "\n",
      "accuracy 0.9283128167994207\n",
      "precision 0.923679060665362\n",
      "sensitivity/recall 0.8872180451127819\n"
     ]
    }
   ],
   "source": [
    "best_params = {\"C\": 100, \"gamma\": 0.0001, \"kernel\":\"rbf\"}\n",
    "\n",
    "# model\n",
    "model = SVC(C=100, gamma=0.0001, kernel=\"rbf\")\n",
    "\n",
    "model.fit(X_train, y_train)\n",
    "y_pred = model.predict(X_test)\n",
    "\n",
    "# metrics\n",
    "print(confusion_matrix(y_test, y_pred), \"\\n\")\n",
    "print(\"accuracy\", accuracy_score(y_test, y_pred))\n",
    "print(\"precision\", precision_score(y_test, y_pred))\n",
    "print(\"sensitivity/recall\", recall_score(y_test, y_pred))"
   ]
  },
  {
   "cell_type": "markdown",
   "metadata": {},
   "source": [
    "# Conclusion\n",
    "\n",
    "The accuracy achieved using a non-linear kernel is comparable to that of a linear one. Thus, it turns out that for this problem, **you do not really need a non-linear kernel**."
   ]
  },
  {
   "cell_type": "code",
   "execution_count": null,
   "metadata": {},
   "outputs": [],
   "source": []
  }
 ],
 "metadata": {
  "kernelspec": {
   "display_name": "Python 3",
   "language": "python",
   "name": "python3"
  },
  "language_info": {
   "codemirror_mode": {
    "name": "ipython",
    "version": 3
   },
   "file_extension": ".py",
   "mimetype": "text/x-python",
   "name": "python",
   "nbconvert_exporter": "python",
   "pygments_lexer": "ipython3",
   "version": "3.6.4"
  }
 },
 "nbformat": 4,
 "nbformat_minor": 2
}
